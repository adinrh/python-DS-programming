{
 "cells": [
  {
   "cell_type": "markdown",
   "id": "bf6e8a57",
   "metadata": {},
   "source": [
    "# Bubble short\n",
    "Time complexity: \n",
    "    Best: O(n), average: O(n2), worse: O(n2)\n",
    "Space complexity: O(n)"
   ]
  },
  {
   "cell_type": "code",
   "execution_count": null,
   "id": "c7bf5337",
   "metadata": {},
   "outputs": [],
   "source": []
  },
  {
   "cell_type": "markdown",
   "id": "166137db",
   "metadata": {},
   "source": [
    "# Selection short\n",
    "Time complexity: \n",
    "    Best: O(n), average: O(n2), worse: O(n2) \n",
    "    Space complexity: O(n)"
   ]
  },
  {
   "cell_type": "code",
   "execution_count": null,
   "id": "753129b0",
   "metadata": {},
   "outputs": [],
   "source": []
  }
 ],
 "metadata": {
  "language_info": {
   "name": "python"
  }
 },
 "nbformat": 4,
 "nbformat_minor": 5
}
