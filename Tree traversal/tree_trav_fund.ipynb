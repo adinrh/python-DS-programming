{
 "cells": [
  {
   "cell_type": "markdown",
   "id": "6a6bfd58",
   "metadata": {},
   "source": [
    "# Tree traversal\n",
    "1. Breath first search /\n",
    "    a. level order\n",
    "2. Deep first search /\n",
    "    a. Pre order /\n",
    "    b. Inorder /\n",
    "    c. Post order \n",
    "\n",
    "\n",
    "## Pre-order\n",
    "Sequece: Root -> left -> Right"
   ]
  },
  {
   "cell_type": "code",
   "execution_count": null,
   "id": "6ebe683b",
   "metadata": {},
   "outputs": [],
   "source": []
  }
 ],
 "metadata": {
  "language_info": {
   "name": "python"
  }
 },
 "nbformat": 4,
 "nbformat_minor": 5
}
